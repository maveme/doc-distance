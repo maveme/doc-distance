{
 "cells": [
  {
   "cell_type": "markdown",
   "id": "premium-seafood",
   "metadata": {},
   "source": [
    "# Document distance"
   ]
  },
  {
   "cell_type": "code",
   "execution_count": 6,
   "id": "together-child",
   "metadata": {},
   "outputs": [
    {
     "data": {
      "text/html": [
       "        ^ Parse error here\n"
      ]
     },
     "metadata": {},
     "output_type": "display_data"
    },
    {
     "data": {
      "text/plain": [
       "ok\n"
      ]
     },
     "execution_count": 6,
     "metadata": {},
     "output_type": "execute_result"
    }
   ],
   "source": [
    "import IO;"
   ]
  },
  {
   "cell_type": "code",
   "execution_count": 1,
   "id": "junior-slope",
   "metadata": {},
   "outputs": [
    {
     "data": {
      "text/plain": [
       "int: 2\n"
      ]
     },
     "execution_count": 1,
     "metadata": {},
     "output_type": "execute_result"
    }
   ],
   "source": [
    "1+1"
   ]
  },
  {
   "cell_type": "code",
   "execution_count": 14,
   "id": "combined-pitch",
   "metadata": {},
   "outputs": [],
   "source": [
    "doc1 = \"the cat\""
   ]
  },
  {
   "cell_type": "code",
   "execution_count": 4,
   "id": "removed-dynamics",
   "metadata": {},
   "outputs": [],
   "source": [
    "List[str] splitDocument(str document) = document.split(\"\")"
   ]
  },
  {
   "cell_type": "code",
   "execution_count": 8,
   "id": "entire-eating",
   "metadata": {},
   "outputs": [
    {
     "data": {
      "text/plain": [
       "hola"
      ]
     },
     "metadata": {},
     "output_type": "display_data"
    },
    {
     "data": {
      "text/plain": [
       "ok\n"
      ]
     },
     "execution_count": 8,
     "metadata": {},
     "output_type": "execute_result"
    }
   ],
   "source": [
    "print(\"hola\")"
   ]
  },
  {
   "cell_type": "code",
   "execution_count": 9,
   "id": "electric-harvest",
   "metadata": {},
   "outputs": [
    {
     "data": {
      "text/html": [
       "|prompt:///|(6,13,<1,6>,<1,19>): Undeclared variable: splitDocument\n",
       "Advice: <a href=\"http://tutor.rascal-mpl.org/Errors/Static/UndeclaredVariable/UndeclaredVariable.html\" target=\"_blank\">http://tutor.rascal-mpl.org/Errors/Static/UndeclaredVariable/UndeclaredVariable.html</a>\n"
      ]
     },
     "metadata": {},
     "output_type": "display_data"
    },
    {
     "data": {
      "text/plain": [
       "ok\n"
      ]
     },
     "execution_count": 9,
     "metadata": {},
     "output_type": "execute_result"
    }
   ],
   "source": [
    "print(splitDocument(doc1))"
   ]
  },
  {
   "cell_type": "code",
   "execution_count": 10,
   "id": "protected-invasion",
   "metadata": {},
   "outputs": [
    {
     "data": {
      "text/html": [
       "|prompt:///|(0,6,<1,0>,<1,6>): field access not supported on str at |prompt:///|(0,6,<1,0>,<1,6>)\n",
       "Advice: <a href=\"http://tutor.rascal-mpl.org/Errors/Static/UnsupportedOperation/UnsupportedOperation.html\" target=\"_blank\">http://tutor.rascal-mpl.org/Errors/Static/UnsupportedOperation/UnsupportedOperation.html</a>\n"
      ]
     },
     "metadata": {},
     "output_type": "display_data"
    },
    {
     "data": {
      "text/plain": [
       "ok\n"
      ]
     },
     "execution_count": 10,
     "metadata": {},
     "output_type": "execute_result"
    }
   ],
   "source": [
    "\"hola\".split(\"\")"
   ]
  },
  {
   "cell_type": "code",
   "execution_count": 11,
   "id": "agricultural-hybrid",
   "metadata": {},
   "outputs": [
    {
     "data": {
      "text/html": [
       "|prompt:///|(0,5,<1,0>,<1,5>): Undeclared variable: split\n",
       "Advice: <a href=\"http://tutor.rascal-mpl.org/Errors/Static/UndeclaredVariable/UndeclaredVariable.html\" target=\"_blank\">http://tutor.rascal-mpl.org/Errors/Static/UndeclaredVariable/UndeclaredVariable.html</a>\n"
      ]
     },
     "metadata": {},
     "output_type": "display_data"
    },
    {
     "data": {
      "text/plain": [
       "ok\n"
      ]
     },
     "execution_count": 11,
     "metadata": {},
     "output_type": "execute_result"
    }
   ],
   "source": [
    "split(doc1, \"\")"
   ]
  },
  {
   "cell_type": "code",
   "execution_count": 12,
   "id": "dominican-beginning",
   "metadata": {},
   "outputs": [
    {
     "data": {
      "text/plain": [
       "ok\n"
      ]
     },
     "execution_count": 12,
     "metadata": {},
     "output_type": "execute_result"
    }
   ],
   "source": [
    "import String;"
   ]
  },
  {
   "cell_type": "code",
   "execution_count": 16,
   "id": "dying-study",
   "metadata": {},
   "outputs": [
    {
     "data": {
      "text/html": [
       "        ^ Parse error here\n"
      ]
     },
     "metadata": {},
     "output_type": "display_data"
    },
    {
     "data": {
      "text/plain": [
       "ok\n"
      ]
     },
     "execution_count": 16,
     "metadata": {},
     "output_type": "execute_result"
    }
   ],
   "source": [
    "print(split(doc1, \"\"))"
   ]
  },
  {
   "cell_type": "code",
   "execution_count": 17,
   "id": "loved-establishment",
   "metadata": {},
   "outputs": [
    {
     "data": {
      "text/plain": [
       "hola"
      ]
     },
     "metadata": {},
     "output_type": "display_data"
    },
    {
     "data": {
      "text/plain": [
       "ok\n"
      ]
     },
     "execution_count": 17,
     "metadata": {},
     "output_type": "execute_result"
    }
   ],
   "source": [
    "print(\"hola\")"
   ]
  },
  {
   "cell_type": "code",
   "execution_count": 18,
   "id": "streaming-shade",
   "metadata": {},
   "outputs": [],
   "source": [
    "a = split(doc1, \"\")"
   ]
  },
  {
   "cell_type": "code",
   "execution_count": 20,
   "id": "fatty-liechtenstein",
   "metadata": {},
   "outputs": [
    {
     "data": {
      "text/html": [
       "        ^ Parse error here\n"
      ]
     },
     "metadata": {},
     "output_type": "display_data"
    },
    {
     "data": {
      "text/plain": [
       "ok\n"
      ]
     },
     "execution_count": 20,
     "metadata": {},
     "output_type": "execute_result"
    }
   ],
   "source": [
    "println(a)"
   ]
  },
  {
   "cell_type": "code",
   "execution_count": 21,
   "id": "efficient-catholic",
   "metadata": {},
   "outputs": [
    {
     "data": {
      "text/html": [
       "|prompt:///|(8,1,<1,8>,<1,9>): Undeclared variable: a\n",
       "Advice: <a href=\"http://tutor.rascal-mpl.org/Errors/Static/UndeclaredVariable/UndeclaredVariable.html\" target=\"_blank\">http://tutor.rascal-mpl.org/Errors/Static/UndeclaredVariable/UndeclaredVariable.html</a>\n"
      ]
     },
     "metadata": {},
     "output_type": "display_data"
    },
    {
     "data": {
      "text/plain": [
       "ok\n"
      ]
     },
     "execution_count": 21,
     "metadata": {},
     "output_type": "execute_result"
    }
   ],
   "source": [
    "println(a)"
   ]
  },
  {
   "cell_type": "code",
   "execution_count": null,
   "id": "moral-egypt",
   "metadata": {},
   "outputs": [],
   "source": []
  }
 ],
 "metadata": {
  "kernelspec": {
   "display_name": "Rascal",
   "language": "Rascal",
   "name": "rascal"
  },
  "language_info": {
   "file_extension": ".rsc",
   "mimetype": "text/plain",
   "name": "rascal",
   "version": "0.19.3-SNAPSHOT"
  }
 },
 "nbformat": 4,
 "nbformat_minor": 5
}
