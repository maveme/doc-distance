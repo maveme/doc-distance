{
 "cells": [
  {
   "cell_type": "code",
   "execution_count": 1,
   "metadata": {},
   "outputs": [],
   "source": [
    "from typing import Dict, List"
   ]
  },
  {
   "cell_type": "code",
   "execution_count": 2,
   "metadata": {},
   "outputs": [],
   "source": [
    "import math"
   ]
  },
  {
   "cell_type": "code",
   "execution_count": 3,
   "metadata": {},
   "outputs": [],
   "source": [
    "def read_file(doc) -> str:\n",
    "    return ''.join(f'{x}' for x in doc)"
   ]
  },
  {
   "cell_type": "code",
   "execution_count": 4,
   "metadata": {},
   "outputs": [],
   "source": [
    "def split_document(document: str) -> List[str]:\n",
    "    return document.split(\" \")"
   ]
  },
  {
   "cell_type": "code",
   "execution_count": 5,
   "metadata": {},
   "outputs": [],
   "source": [
    "def count_word_occurencies(doc: List[str]) -> Dict[str, int]:\n",
    "    frequency_counter = {}\n",
    "    for x in doc:\n",
    "        frequency_counter[x] = frequency_counter.get(x, 0) + 1\n",
    "        \n",
    "    return frequency_counter"
   ]
  },
  {
   "cell_type": "code",
   "execution_count": 6,
   "metadata": {},
   "outputs": [],
   "source": [
    "def dot_product(d1: Dict[str, int], d2: Dict[str, int]) -> float:\n",
    "    dot_product = 0\n",
    "    for d in d1:\n",
    "        if d in d2:\n",
    "            dot_product += d1[d] * d2[d]\n",
    "    return dot_product"
   ]
  },
  {
   "cell_type": "code",
   "execution_count": 7,
   "metadata": {},
   "outputs": [],
   "source": [
    "def compute_document_distance(file1: str, file2: str) -> float:\n",
    "    # Read files.\n",
    "    doc1 = read_file(open(file1))\n",
    "    doc2 = read_file(open(file2))\n",
    "    \n",
    "    # count frequency\n",
    "    d1 = count_word_occurencies(split_document(doc1))\n",
    "    d2 = count_word_occurencies(split_document(doc2))\n",
    "    \n",
    "    den = math.sqrt(dot_product(d1, d1) * dot_product(d2, d2))\n",
    "    \n",
    "    return math.acos(dot_product(d1, d2) / den)\n",
    "    "
   ]
  },
  {
   "cell_type": "code",
   "execution_count": 8,
   "metadata": {},
   "outputs": [
    {
     "data": {
      "text/plain": [
       "1.3715303708102822"
      ]
     },
     "execution_count": 8,
     "metadata": {},
     "output_type": "execute_result"
    }
   ],
   "source": [
    "compute_document_distance(\"data/chi.txt\", \"data/uist.txt\")"
   ]
  },
  {
   "cell_type": "code",
   "execution_count": null,
   "metadata": {},
   "outputs": [],
   "source": []
  }
 ],
 "metadata": {
  "kernelspec": {
   "display_name": "Python 3",
   "language": "python",
   "name": "python3"
  },
  "language_info": {
   "codemirror_mode": {
    "name": "ipython",
    "version": 3
   },
   "file_extension": ".py",
   "mimetype": "text/x-python",
   "name": "python",
   "nbconvert_exporter": "python",
   "pygments_lexer": "ipython3",
   "version": "3.7.7"
  }
 },
 "nbformat": 4,
 "nbformat_minor": 4
}
